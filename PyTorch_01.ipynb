{
  "nbformat": 4,
  "nbformat_minor": 0,
  "metadata": {
    "colab": {
      "provenance": []
    },
    "kernelspec": {
      "name": "python3",
      "display_name": "Python 3"
    },
    "language_info": {
      "name": "python"
    }
  },
  "cells": [
    {
      "cell_type": "markdown",
      "source": [
        "A tensor is a multi-dimensional array (like a matrix) that serves as the basic building block of all operations in PyTorch"
      ],
      "metadata": {
        "id": "3wd_TAX7ij66"
      }
    },
    {
      "cell_type": "code",
      "execution_count": null,
      "metadata": {
        "id": "qnaGUcahiU0x"
      },
      "outputs": [],
      "source": [
        "import torch\n",
        "\n",
        "a = torch.tensor([1.0, 2.0, 3.0])\n",
        "b = torch.zeros((2, 3))\n",
        "c = torch.ones((2, 2))\n",
        "d = torch.randn((3, 4))"
      ]
    },
    {
      "cell_type": "markdown",
      "source": [
        "operations in tensors"
      ],
      "metadata": {
        "id": "nEXxnLhii55o"
      }
    },
    {
      "cell_type": "code",
      "source": [
        "a + 2           # Adds 2 to every element\n",
        "b * 3           # Multiplies each element by 3\n",
        "torch.matmul(a, a.T)  # Matrix multiplication (dot product)\n",
        "print(a.T,a)"
      ],
      "metadata": {
        "colab": {
          "base_uri": "https://localhost:8080/"
        },
        "id": "7wew5V7Ci8mm",
        "outputId": "e6720a0f-db7e-41d9-bb44-90560f832f89"
      },
      "execution_count": null,
      "outputs": [
        {
          "output_type": "stream",
          "name": "stdout",
          "text": [
            "tensor([1., 2., 3.]) tensor([1., 2., 3.])\n"
          ]
        }
      ]
    },
    {
      "cell_type": "markdown",
      "source": [
        "single perceptron, without the use of torch.nn function"
      ],
      "metadata": {
        "id": "yFFrNnSijucL"
      }
    },
    {
      "cell_type": "code",
      "source": [
        "X = torch.randn((10, 5))  # 10 samples, 5 features\n",
        "y = torch.tensor([1, 0, 1, 0, 1, 1, 0, 0, 1, 0], dtype=torch.float32)\n",
        "\n",
        "# Initialize weights and biases\n",
        "w = torch.randn((5, 1), requires_grad=True)\n",
        "b = torch.randn(1, requires_grad=True)\n",
        "\n",
        "# Forward pass\n",
        "logits = torch.matmul(X, w) + b\n",
        "predictions = torch.sigmoid(logits).squeeze()\n",
        "\n",
        "# Binary Cross Entropy loss\n",
        "import torch.nn.functional as F\n",
        "loss = F.binary_cross_entropy(predictions, y)\n",
        "\n",
        "# Backward pass (autograd)\n",
        "loss.backward()\n",
        "\n",
        "# Manual gradient descent step\n",
        "with torch.no_grad():\n",
        "    w -= 0.01 * w.grad\n",
        "    b -= 0.01 * b.grad\n",
        "    w.grad.zero_()\n",
        "    b.grad.zero_()"
      ],
      "metadata": {
        "id": "Vrnx7RxUjVcx"
      },
      "execution_count": null,
      "outputs": []
    },
    {
      "cell_type": "markdown",
      "source": [
        "we use pytorch because it allows us to coustom our model, we usually write the model inside a class and create functions under it to access. the torch.nn and the torch.optim are the 2 important libraries used to create a model more quick and efficient"
      ],
      "metadata": {
        "id": "p7F40M-RkNIK"
      }
    },
    {
      "cell_type": "code",
      "source": [
        "import torch.nn as nn\n",
        "\n",
        "class FNN(nn.Module):\n",
        "    def __init__(self, input_size, hidden_size):\n",
        "        super(FNN, self).__init__()\n",
        "        self.fc1 = nn.Linear(input_size, hidden_size)   # Hidden layer\n",
        "        self.fc2 = nn.Linear(hidden_size, 1)            # Output layer\n",
        "\n",
        "    def forward(self, x):\n",
        "        x = torch.relu(self.fc1(x))                     # ReLU activation\n",
        "        x = torch.sigmoid(self.fc2(x))                  # Output activation\n",
        "        return x"
      ],
      "metadata": {
        "id": "qc2Lg94KlDVx"
      },
      "execution_count": null,
      "outputs": []
    },
    {
      "cell_type": "code",
      "source": [
        "model = FNN(input_size=5, hidden_size=10)\n",
        "criterion = nn.BCELoss()  # Binary Cross Entropy Loss\n",
        "optimizer = torch.optim.Adam(model.parameters(), lr=0.01)"
      ],
      "metadata": {
        "id": "oDFUNCz2lG_J"
      },
      "execution_count": null,
      "outputs": []
    },
    {
      "cell_type": "code",
      "source": [
        "for epoch in range(10):\n",
        "    outputs = model(X).squeeze()\n",
        "    loss = criterion(outputs, y)\n",
        "\n",
        "    optimizer.zero_grad()    # Reset gradients\n",
        "    loss.backward()          # Backpropagation\n",
        "    optimizer.step()         # Update weights\n",
        "\n",
        "    print(f\"Epoch {epoch+1}, Loss: {loss.item():.4f}\")"
      ],
      "metadata": {
        "colab": {
          "base_uri": "https://localhost:8080/"
        },
        "id": "vencWb_FlK_h",
        "outputId": "97a68ae7-1711-489f-90a4-3c4fd604c742"
      },
      "execution_count": null,
      "outputs": [
        {
          "output_type": "stream",
          "name": "stdout",
          "text": [
            "Epoch 1, Loss: 0.6990\n",
            "Epoch 2, Loss: 0.6882\n",
            "Epoch 3, Loss: 0.6775\n",
            "Epoch 4, Loss: 0.6672\n",
            "Epoch 5, Loss: 0.6569\n",
            "Epoch 6, Loss: 0.6474\n",
            "Epoch 7, Loss: 0.6380\n",
            "Epoch 8, Loss: 0.6290\n",
            "Epoch 9, Loss: 0.6201\n",
            "Epoch 10, Loss: 0.6114\n"
          ]
        }
      ]
    },
    {
      "cell_type": "markdown",
      "source": [
        "PyTorch makes dataset handling very easy with torchvision and torch.utils.data."
      ],
      "metadata": {
        "id": "UBoc7m1NlaIF"
      }
    },
    {
      "cell_type": "code",
      "source": [
        "from torchvision import datasets, transforms\n",
        "from torch.utils.data import DataLoader\n",
        "\n",
        "# Convert images to tensors\n",
        "transform = transforms.ToTensor()\n",
        "\n",
        "# Download and load data\n",
        "train_data = datasets.MNIST(root='.', train=True, download=True, transform=transform)\n",
        "train_loader = DataLoader(train_data, batch_size=64, shuffle=True)"
      ],
      "metadata": {
        "colab": {
          "base_uri": "https://localhost:8080/"
        },
        "id": "EWXoiflklQQJ",
        "outputId": "f8a81293-2ae9-4b1e-8c84-56accf77f731"
      },
      "execution_count": null,
      "outputs": [
        {
          "output_type": "stream",
          "name": "stderr",
          "text": [
            "100%|██████████| 9.91M/9.91M [00:00<00:00, 11.6MB/s]\n",
            "100%|██████████| 28.9k/28.9k [00:00<00:00, 343kB/s]\n",
            "100%|██████████| 1.65M/1.65M [00:00<00:00, 3.20MB/s]\n",
            "100%|██████████| 4.54k/4.54k [00:00<00:00, 5.23MB/s]\n"
          ]
        }
      ]
    }
  ]
}